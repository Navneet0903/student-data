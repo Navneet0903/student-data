{
 "cells": [
  {
   "cell_type": "markdown",
   "id": "057d7912",
   "metadata": {},
   "source": [
    "# 🎓 Student Performance Analytics Dashboard\n",
    "\n",
    "**Author:** Navneet Raj\n",
    "\n",
    "This notebook analyzes student performance data to identify trends and flag students at risk of academic failure or dropout."
   ]
  },
  {
   "cell_type": "code",
   "execution_count": null,
   "id": "f7cf5f1b",
   "metadata": {},
   "outputs": [],
   "source": [
    "\n",
    "import pandas as pd\n",
    "import matplotlib.pyplot as plt\n",
    "import seaborn as sns\n",
    "\n",
    "# Settings\n",
    "sns.set(style=\"whitegrid\")\n",
    "%matplotlib inline\n"
   ]
  },
  {
   "cell_type": "code",
   "execution_count": null,
   "id": "d553e3e0",
   "metadata": {},
   "outputs": [],
   "source": [
    "\n",
    "# Load dataset\n",
    "df = pd.read_csv('student_data.csv')\n",
    "df.head()\n"
   ]
  },
  {
   "cell_type": "code",
   "execution_count": null,
   "id": "92a3a923",
   "metadata": {},
   "outputs": [],
   "source": [
    "\n",
    "# Summary statistics\n",
    "df.describe()\n"
   ]
  },
  {
   "cell_type": "code",
   "execution_count": null,
   "id": "33ba3864",
   "metadata": {},
   "outputs": [],
   "source": [
    "\n",
    "# Correlation heatmap\n",
    "plt.figure(figsize=(6, 4))\n",
    "corr = df[[\"Marks\", \"Attendance(%)\", \"Login_Frequency\"]].corr()\n",
    "sns.heatmap(corr, annot=True, cmap=\"coolwarm\")\n",
    "plt.title(\"Correlation Heatmap\")\n",
    "plt.tight_layout()\n",
    "plt.show()\n"
   ]
  },
  {
   "cell_type": "code",
   "execution_count": null,
   "id": "25bcb009",
   "metadata": {},
   "outputs": [],
   "source": [
    "\n",
    "# Top 10 students by marks\n",
    "top_students = df.sort_values(by=\"Marks\", ascending=False).head(10)\n",
    "plt.figure(figsize=(10,6))\n",
    "sns.barplot(x=\"Marks\", y=\"Name\", data=top_students, palette=\"Greens_d\")\n",
    "plt.title(\"Top 10 Students by Marks\")\n",
    "plt.tight_layout()\n",
    "plt.show()\n"
   ]
  },
  {
   "cell_type": "code",
   "execution_count": null,
   "id": "e357bdc0",
   "metadata": {},
   "outputs": [],
   "source": [
    "\n",
    "# Scatter plot Attendance vs Marks\n",
    "plt.figure(figsize=(8,6))\n",
    "sns.scatterplot(x=\"Attendance(%)\", y=\"Marks\", data=df, hue=(df[\"Marks\"] < 40), palette={True: \"red\", False: \"blue\"})\n",
    "plt.title(\"Attendance vs Marks (At-Risk Highlighted)\")\n",
    "plt.tight_layout()\n",
    "plt.show()\n"
   ]
  },
  {
   "cell_type": "code",
   "execution_count": null,
   "id": "38096969",
   "metadata": {},
   "outputs": [],
   "source": [
    "\n",
    "# Identify at-risk students\n",
    "at_risk = df[(df[\"Marks\"] < 40) | (df[\"Attendance(%)\"] < 60) | (df[\"Login_Frequency\"] < 3)]\n",
    "at_risk.sort_values(by=\"Marks\")\n"
   ]
  }
 ],
 "metadata": {},
 "nbformat": 4,
 "nbformat_minor": 5
}
